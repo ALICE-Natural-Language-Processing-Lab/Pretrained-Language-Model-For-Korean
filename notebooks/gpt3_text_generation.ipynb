{
  "nbformat": 4,
  "nbformat_minor": 0,
  "metadata": {
    "colab": {
      "name": "inference.ipynb",
      "provenance": [],
      "collapsed_sections": [],
      "authorship_tag": "ABX9TyMBG1rpScxlPP0QM7ThW8Lm",
      "include_colab_link": true
    },
    "kernelspec": {
      "name": "python3",
      "display_name": "Python 3"
    },
    "accelerator": "GPU"
  },
  "cells": [
    {
      "cell_type": "markdown",
      "metadata": {
        "id": "view-in-github",
        "colab_type": "text"
      },
      "source": [
        "<a href=\"https://colab.research.google.com/github/kiyoungkim1/LMkor/blob/main/notebooks/gpt3_text_generation.ipynb\" target=\"_parent\"><img src=\"https://colab.research.google.com/assets/colab-badge.svg\" alt=\"Open In Colab\"/></a>"
      ]
    },
    {
      "cell_type": "markdown",
      "metadata": {
        "id": "GFeKJ569cacR"
      },
      "source": [
        "# GPT3 text generation\n",
        "\n",
        "더 많은 정보와 모델은 [Github](https://github.com/kiyoungkim1/LMkor)을 확인해 주세요."
      ]
    },
    {
      "cell_type": "markdown",
      "metadata": {
        "id": "8mavDwA7bxO_"
      },
      "source": [
        "**1. 아래 블럭을 클릭하고 shift + enter 누르면 필요파일들이 설치됩니다 (약 30초 소요)**"
      ]
    },
    {
      "cell_type": "code",
      "metadata": {
        "id": "a4iXZYyvDH7I"
      },
      "source": [
        "!git clone https://github.com/kiyoungkim1/LMkor\n",
        "!pip3 install -q transformers\n",
        "\n",
        "from LMkor.examples.gpt3_generation import Inference\n",
        "inference = Inference('kykim/gpt3-kor-small_based_on_gpt2')"
      ],
      "execution_count": null,
      "outputs": []
    },
    {
      "cell_type": "markdown",
      "metadata": {
        "id": "iiQgmX2-cDVu"
      },
      "source": [
        "**2. 아래 블럭 text의 따옴표 사이에 원하는 텍스트를 입력하고 shift + enter를 누르면 문장이 생성됩니다.**\n",
        "\n",
        "**같은 텍스트를 넣어도 매번 다른 문장을 생성하도록 하였습니다.**"
      ]
    },
    {
      "cell_type": "code",
      "metadata": {
        "id": "ewO7BgFBIt1C"
      },
      "source": [
        "text = '인생이'\n",
        "\n",
        "inference(text, howmany=3)"
      ],
      "execution_count": null,
      "outputs": []
    }
  ]
}