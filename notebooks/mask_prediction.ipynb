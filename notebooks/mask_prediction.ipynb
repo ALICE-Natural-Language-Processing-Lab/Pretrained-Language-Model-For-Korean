{
  "nbformat": 4,
  "nbformat_minor": 0,
  "metadata": {
    "colab": {
      "name": "Untitled0.ipynb",
      "provenance": [],
      "authorship_tag": "ABX9TyPIl5j8T78XV9GuAq84ckYk",
      "include_colab_link": true
    },
    "kernelspec": {
      "name": "python3",
      "display_name": "Python 3"
    }
  },
  "cells": [
    {
      "cell_type": "markdown",
      "metadata": {
        "id": "view-in-github",
        "colab_type": "text"
      },
      "source": [
        "<a href=\"https://colab.research.google.com/github/kiyoungkim1/LMkor/blob/main/notebooks/mask_prediction.ipynb\" target=\"_parent\"><img src=\"https://colab.research.google.com/assets/colab-badge.svg\" alt=\"Open In Colab\"/></a>"
      ]
    },
    {
      "cell_type": "markdown",
      "metadata": {
        "id": "Ae6tVY3ZpHkV"
      },
      "source": [
        "# MASK prediction\n",
        "\n",
        "더 많은 정보와 모델은 [Github](https://github.com/kiyoungkim1/LMkor)을 확인해 주세요."
      ]
    },
    {
      "cell_type": "markdown",
      "metadata": {
        "id": "qnJobfmIpNr0"
      },
      "source": [
        "**1. 아래 블럭 왼쪽의 실행버튼을 누르면 필요파일들이 설치됩니다 (약 60초 소요)**"
      ]
    },
    {
      "cell_type": "code",
      "metadata": {
        "id": "qVOPCPwgpQJn"
      },
      "source": [
        "# !git clone https://github.com/kiyoungkim1/LMkor\n",
        "# !pip3 install -q transformers\n",
        "\n",
        "from LMkor.examples.mask_prediction import predict"
      ],
      "execution_count": null,
      "outputs": []
    },
    {
      "cell_type": "markdown",
      "metadata": {
        "id": "0haRzqQspRE3"
      },
      "source": [
        "**2. 문장 중간에 \\<mask>를 넣고 실행버튼을 누르면 모델별로 \\<mask>안에 들어갈 확률이 높은 단어 3개를 보여줍니다**"
      ]
    },
    {
      "cell_type": "code",
      "metadata": {
        "id": "YLASN2Gpo-ci"
      },
      "source": [
        "text = '이거 <mask> 재밌네?'\n",
        "\n",
        "predict(text)"
      ],
      "execution_count": null,
      "outputs": []
    }
  ]
}